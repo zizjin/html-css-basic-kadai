{
  "cells": [
    {
      "cell_type": "code",
      "execution_count": 4,
      "metadata": {
        "colab": {
          "base_uri": "https://localhost:8080/"
        },
        "id": "FSlP2WzTWmhW",
        "outputId": "a00c8701-5949-4bc4-faeb-619ca7c5ec36"
      },
      "outputs": [
        {
          "name": "stdout",
          "output_type": "stream",
          "text": [
            "75.0cm\n"
          ]
        }
      ],
      "source": [
        "top = 10\n",
        "under = 20\n",
        "hight = 5\n",
        "\n",
        "area = (top + under) * hight / 2  # 台形の面積 =（上辺＋下辺）× 高さ ÷ 2 変数\n",
        "\n",
        "\n",
        "print(str(area) + \"cm\")  # 計算結果\n"
      ]
    },
    {
      "cell_type": "code",
      "execution_count": null,
      "metadata": {
        "id": "V4lsWJ6QWsqA"
      },
      "outputs": [],
      "source": []
    }
  ],
  "metadata": {
    "colab": {
      "provenance": []
    },
    "kernelspec": {
      "display_name": "Python 3",
      "name": "python3"
    },
    "language_info": {
      "name": "python"
    }
  },
  "nbformat": 4,
  "nbformat_minor": 0
}
